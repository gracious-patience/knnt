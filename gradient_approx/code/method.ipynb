{
 "cells": [
  {
   "cell_type": "code",
   "execution_count": null,
   "metadata": {},
   "outputs": [],
   "source": [
    "import torch\n",
    "import numpy as np\n",
    "from numpy import linalg as LA\n",
    "import matplotlib.pyplot as plt\n",
    "import seaborn as sns\n",
    "from itertools import product\n",
    "from scipy.special import binom\n"
   ]
  },
  {
   "cell_type": "code",
   "execution_count": 362,
   "metadata": {},
   "outputs": [
    {
     "data": {
      "text/plain": [
       "array([25., 40., 16., 30., 24.,  9., 60., 48., 36., 36., 50., 40., 30.,\n",
       "       60., 25., 40., 32., 24., 48., 40., 16., 30., 24., 18., 36., 30.,\n",
       "       24.,  9., 20., 16., 12., 24., 20., 16., 12.,  4.], dtype=float32)"
      ]
     },
     "execution_count": 362,
     "metadata": {},
     "output_type": "execute_result"
    }
   ],
   "source": [
    "# multinomial expansion\n",
    "def multinomial_coeff(params):\n",
    "    if len(params) == 1:\n",
    "        return 1\n",
    "    return binom(sum(params), params[-1]) * multinomial_coeff(params[:-1])\n",
    "\n",
    "def multinomial( terms, n: int):\n",
    "    k = terms.shape[-1]\n",
    "    result = []\n",
    "    for indices in product(range(n + 1), repeat=k):\n",
    "        current = 1.0\n",
    "        if sum(indices) == n:\n",
    "            coeff = multinomial_coeff(indices)\n",
    "            for i, index in enumerate(indices):\n",
    "                current *= terms[i]**(index)\n",
    "            current *= coeff\n",
    "            result.append(current)\n",
    "\n",
    "    # return torch.tensor(result)\n",
    "    return np.array(result)\n",
    "\n",
    "# Example usage:\n",
    "n = 2\n",
    "a = torch.tensor([2,3, 4, 5, 6,3, 4, 5])\n",
    "# a = np.array([2,3, 4, 5, 6,3, 4, 5])\n",
    "multinomial(a, n)"
   ]
  },
  {
   "attachments": {},
   "cell_type": "markdown",
   "metadata": {},
   "source": [
    "В качестве испитуемой функции на данном этапе рассмотрим \n",
    "$$ F = \\frac{1.25 + cos(5.4y)}{6(1 + (3x-1)^2)}.$$\n",
    "\n",
    "Посчитаем ее градиент вручную: "
   ]
  },
  {
   "cell_type": "code",
   "execution_count": 269,
   "metadata": {},
   "outputs": [],
   "source": [
    "F = lambda x, y : (1.25 + torch.cos(5.4*y))/(6*(1+(3*x-1)**2))\n",
    "grad_F = lambda x, y : torch.stack([ -((1.25 + torch.cos(5.4*y))/(1+(3*x-1)**2)**2)*(3*x-1) , (-5.4*torch.sin(5.4*y))/(6*(1+(3*x-1)**2))]).T"
   ]
  },
  {
   "attachments": {},
   "cell_type": "markdown",
   "metadata": {},
   "source": [
    "Тренировочные данные в нашем случае - это точки-значения функции, которые будут использоваться как ближайшие соседи для тестовых точек."
   ]
  },
  {
   "attachments": {},
   "cell_type": "markdown",
   "metadata": {},
   "source": [
    "Тестовые данные - это точки на плоскости и значения функции в этих точках. Для проверки точности алгоритма также посчитаем настоящее значение градиента в этих точках."
   ]
  },
  {
   "attachments": {},
   "cell_type": "markdown",
   "metadata": {},
   "source": [
    "Простой пример не двумерной функции\n",
    "$$ F(x_1, x_2, x_3, x_4) = x_1^2+x_2^2+x_3^2+x_4^2 - 1 $$"
   ]
  },
  {
   "cell_type": "code",
   "execution_count": 128,
   "metadata": {},
   "outputs": [],
   "source": [
    "# func and its gradient\n",
    "F = lambda x, y, z, t : (x**2+y**2+z**2+t**2 - 1)\n",
    "grad_F = lambda x, y, z, t : torch.stack([ 2*x, 2*y, 2*z, 2*t]).T"
   ]
  },
  {
   "cell_type": "code",
   "execution_count": 243,
   "metadata": {},
   "outputs": [],
   "source": [
    "# func and its gradient\n",
    "F = lambda x, y, z, t : (x*y*z*t)\n",
    "grad_F = lambda x, y, z, t : torch.stack([ y*z*t, x*z*t,x*y*t , x*y*z ]).T"
   ]
  },
  {
   "cell_type": "code",
   "execution_count": 250,
   "metadata": {},
   "outputs": [],
   "source": [
    "# func and its gradient\n",
    "F = lambda x, y, z, t : (torch.sin(x)*torch.cos(y)*torch.sin(z)*torch.cos(t))\n",
    "grad_F = lambda x, y, z, t : torch.stack([ torch.cos(x)*torch.cos(y)*torch.sin(z)*torch.cos(t),\n",
    "                                          torch.sin(x)*(-torch.sin(y))*torch.sin(z)*torch.cos(t),\n",
    "                                          torch.sin(x)*torch.cos(y)*torch.cos(z)*torch.cos(t),\n",
    "                                          torch.sin(x)*torch.cos(y)*torch.sin(z)*(-torch.sin(t))\n",
    "                                          ]).T"
   ]
  },
  {
   "cell_type": "code",
   "execution_count": 270,
   "metadata": {},
   "outputs": [],
   "source": [
    "points = torch.rand([1500,F.__code__.co_argcount])\n",
    "# x = torch.rand([100,1])\n",
    "# # y = torch.sqrt(1 - x**2)\n",
    "# y = torch.zeros_like(x)\n",
    "# points = torch.cat([x, y], dim=-1)\n",
    "F_values_args = (points[:, i] for i in range(F.__code__.co_argcount))\n",
    "F_values = F(*F_values_args)\n",
    "\n",
    "test_points = torch.rand([20, F.__code__.co_argcount])\n",
    "test_F_values_args = (test_points[:, i] for i in range(F.__code__.co_argcount))\n",
    "test_F_values = F(*test_F_values_args)\n",
    "test_F_values_args = (test_points[:, i] for i in range(F.__code__.co_argcount))\n",
    "test_grad_F_values = grad_F(*test_F_values_args)"
   ]
  },
  {
   "cell_type": "code",
   "execution_count": 275,
   "metadata": {},
   "outputs": [],
   "source": [
    "# NNs\n",
    "nearest = 10\n",
    "nn = torch.argsort(torch.sqrt(((test_points[:, None, :] - points )**2).sum(axis=-1)), axis=1)[:, :nearest]\n",
    "meta_indxs = torch.sqrt(((points[nn][:,:,None,:] - points )**2).sum(axis=-1)).argsort(axis=-1)[..., 1:1+11]"
   ]
  },
  {
   "cell_type": "code",
   "execution_count": 278,
   "metadata": {},
   "outputs": [
    {
     "data": {
      "text/plain": [
       "<matplotlib.collections.PathCollection at 0x1773765e0>"
      ]
     },
     "execution_count": 278,
     "metadata": {},
     "output_type": "execute_result"
    },
    {
     "data": {
      "image/png": "[encoded data removed]",
      "text/plain": [
       "<Figure size 432x288 with 1 Axes>"
      ]
     },
     "metadata": {
      "needs_background": "light"
     },
     "output_type": "display_data"
    }
   ],
   "source": [
    "# two-dimensional func\n",
    "plt.scatter(points[:, 0], points[:, 1])\n",
    "plt.scatter(points[nn][:3, :, 0],points[nn][:3, :, 1] )\n",
    "# plt.scatter(points[meta_indxs][:3, :, :, 0],points[meta_indxs][:3, :,:, 1] )\n",
    "plt.scatter(test_points[:3, 0], test_points[:3, 1])"
   ]
  },
  {
   "cell_type": "code",
   "execution_count": 121,
   "metadata": {},
   "outputs": [
    {
     "data": {
      "text/plain": [
       "(torch.Size([20, 8]), torch.Size([20, 8, 4]), torch.Size([20, 1, 4]))"
      ]
     },
     "execution_count": 121,
     "metadata": {},
     "output_type": "execute_result"
    }
   ],
   "source": [
    "nn.shape, points[nn].shape, test_points[:, None, :].shape"
   ]
  },
  {
   "cell_type": "code",
   "execution_count": 150,
   "metadata": {},
   "outputs": [
    {
     "name": "stdout",
     "output_type": "stream",
     "text": [
      "torch.Size([20, 33, 10])\n",
      "torch.Size([20, 33, 4])\n",
      "torch.Size([20, 33, 20])\n",
      "torch.Size([20, 33, 34])\n"
     ]
    }
   ],
   "source": [
    "# Least squares\n",
    "form_A = []\n",
    "A = (points[nn] - test_points[:, None, :])/(points[nn] - test_points[:, None, :]).norm(dim=-1)[:,:,None]\n",
    "q = (F_values[nn] - test_F_values[:, None])/(points[nn] - test_points[:, None, :]).norm(dim=-1)\n",
    "form_A.append(A)\n",
    "\n",
    "# second order\n",
    "n = 2\n",
    "a = torch.ones(F.__code__.co_argcount)\n",
    "A_2 = torch.zeros([test_points.shape[0], nearest , multinomial(a, n).shape[0]])\n",
    "for i in range(A_2.shape[0]):\n",
    "    for j in range(A_2.shape[1]):\n",
    "        A_2[i][j] = multinomial(A[i][j], n)*(((points[nn] - test_points[:, None, :]).norm(dim=-1)[:,:,None][i][j])**(n-1))/2\n",
    "print(A_2.shape)\n",
    "form_A.append(A_2)\n",
    "print(A.shape)\n",
    "\n",
    "# third order\n",
    "n = 3\n",
    "a = torch.ones(F.__code__.co_argcount)\n",
    "A_3 = torch.zeros([test_points.shape[0], nearest , multinomial(a, n).shape[0]])\n",
    "for i in range(A_3.shape[0]):\n",
    "    for j in range(A_3.shape[1]):\n",
    "        A_3[i][j] = multinomial(A[i][j], n)*(((points[nn] - test_points[:, None, :]).norm(dim=-1)[:,:,None][i][j])**(n-1))/6\n",
    "print(A_3.shape)\n",
    "form_A.append(A_3)\n",
    "\n",
    "A = torch.cat(form_A, dim=-1)\n",
    "print(A.shape)"
   ]
  },
  {
   "cell_type": "code",
   "execution_count": 151,
   "metadata": {},
   "outputs": [
    {
     "data": {
      "text/plain": [
       "(torch.Size([20, 33, 33]), torch.Size([20, 33]), torch.Size([20, 34, 34]))"
      ]
     },
     "execution_count": 151,
     "metadata": {},
     "output_type": "execute_result"
    }
   ],
   "source": [
    "U, S, Vt = torch.linalg.svd(A)\n",
    "U.shape, S.shape, Vt.shape"
   ]
  },
  {
   "cell_type": "code",
   "execution_count": 152,
   "metadata": {},
   "outputs": [],
   "source": [
    "if A.shape[1] >= A.shape[-1]:\n",
    "    A_pen = torch.bmm(torch.bmm(Vt.permute((0, 2,1))[:, :, : ], torch.stack([torch.diag((1/S)[i]) for i in range(test_points.shape[0]) ] )), U.permute((0, 2, 1))[:, :A.shape[-1],:])\n",
    "else:\n",
    "    A_pen = torch.bmm(torch.bmm(Vt.permute((0, 2,1))[:, :, :A.shape[1]], torch.stack([torch.diag((1/S)[i]) for i in range(test_points.shape[0]) ] )), U.permute((0, 2, 1))[:, :,:])"
   ]
  },
  {
   "cell_type": "code",
   "execution_count": 136,
   "metadata": {},
   "outputs": [
    {
     "data": {
      "text/plain": [
       "(torch.Size([20, 34, 8]), torch.Size([20, 8, 1]), torch.Size([20, 4]))"
      ]
     },
     "execution_count": 136,
     "metadata": {},
     "output_type": "execute_result"
    }
   ],
   "source": [
    "A_pen.shape, q.unsqueeze(-1).shape, test_grad_F_values.shape"
   ]
  },
  {
   "cell_type": "code",
   "execution_count": 153,
   "metadata": {},
   "outputs": [
    {
     "data": {
      "text/plain": [
       "tensor([1.7240e-03, 1.7800e-04, 1.2312e-04, 2.3010e-04, 6.2566e-06, 1.7581e-05,\n",
       "        1.2237e-04, 3.3023e-04, 1.2842e-04, 9.2854e-05, 2.9290e-05, 8.5914e-05,\n",
       "        7.1152e-04, 2.0745e-05, 1.7366e-04, 2.5422e-06, 1.6716e-05, 6.3655e-04,\n",
       "        3.4382e-04, 3.2356e-04])"
      ]
     },
     "execution_count": 153,
     "metadata": {},
     "output_type": "execute_result"
    }
   ],
   "source": [
    "((torch.bmm(A_pen, q.unsqueeze(-1)).squeeze(-1))[:, :F.__code__.co_argcount]- test_grad_F_values).norm(p=2, dim=-1)/test_grad_F_values.norm(p=2, dim=-1)"
   ]
  },
  {
   "attachments": {},
   "cell_type": "markdown",
   "metadata": {},
   "source": [
    "Scikit-learn datasets, implementations, validations, etc."
   ]
  },
  {
   "cell_type": "code",
   "execution_count": 6,
   "metadata": {},
   "outputs": [],
   "source": [
    "# California dataset\n",
    "from sklearn.datasets import fetch_california_housing\n",
    "import numpy as np\n",
    "california_housing = fetch_california_housing()"
   ]
  },
  {
   "cell_type": "code",
   "execution_count": 7,
   "metadata": {},
   "outputs": [],
   "source": [
    "from sklearn.preprocessing import StandardScaler\n",
    "from sklearn.linear_model import RidgeCV\n",
    "from sklearn.neighbors import KNeighborsRegressor\n",
    "from dnnr import DNNR\n",
    "from sklearn.pipeline import make_pipeline\n",
    "from sklearn.model_selection import cross_validate\n",
    "from sklearn.model_selection import train_test_split\n",
    "\n",
    "alphas = np.logspace(-3, 1, num=30)\n",
    "# model = make_pipeline(StandardScaler(), DNNR(3, 24))\n",
    "t = make_pipeline(StandardScaler(), KNeighborsRegressor(15, weights=\"distance\"))\n",
    "cv_results = cross_validate(\n",
    "    t,\n",
    "    california_housing.data,\n",
    "    california_housing.target,\n",
    "    return_estimator=True,\n",
    "    n_jobs=1,\n",
    ")"
   ]
  },
  {
   "cell_type": "code",
   "execution_count": 3,
   "metadata": {},
   "outputs": [
    {
     "name": "stdout",
     "output_type": "stream",
     "text": [
      "R2 score: 0.555 ± 0.037\n"
     ]
    }
   ],
   "source": [
    "score = cv_results[\"test_score\"]\n",
    "print(f\"R2 score: {score.mean():.3f} ± {score.std():.3f}\")"
   ]
  },
  {
   "cell_type": "code",
   "execution_count": 10,
   "metadata": {},
   "outputs": [],
   "source": [
    "X = california_housing.data\n",
    "y = california_housing.target\n",
    "scaler = StandardScaler()\n",
    "X = scaler.fit_transform(X)\n"
   ]
  },
  {
   "cell_type": "code",
   "execution_count": 11,
   "metadata": {},
   "outputs": [],
   "source": [
    "X_train, X_test, y_train, y_test = train_test_split(X, y, test_size=0.2, random_state=42)"
   ]
  },
  {
   "cell_type": "code",
   "execution_count": 12,
   "metadata": {},
   "outputs": [
    {
     "data": {
      "text/plain": [
       "(dtype('float64'), dtype('float64'), dtype('float64'), dtype('float64'))"
      ]
     },
     "execution_count": 12,
     "metadata": {},
     "output_type": "execute_result"
    }
   ],
   "source": [
    "X_train.dtype, X_test.dtype, y_train.dtype, y_test.dtype"
   ]
  },
  {
   "cell_type": "code",
   "execution_count": 13,
   "metadata": {},
   "outputs": [
    {
     "name": "stdout",
     "output_type": "stream",
     "text": [
      "fitting index\n",
      "fited index\n",
      "quiredod \n"
     ]
    },
    {
     "ename": "IndexError",
     "evalue": "Vector has wrong length (expected 8, got 32)",
     "output_type": "error",
     "traceback": [
      "\u001b[0;31m---------------------------------------------------------------------------\u001b[0m",
      "\u001b[0;31mIndexError\u001b[0m                                Traceback (most recent call last)",
      "\u001b[0;32m/var/folders/64/8wd7l9zd709fzvrfc3z9pzdr0000gn/T/ipykernel_59284/1276906221.py\u001b[0m in \u001b[0;36m<module>\u001b[0;34m\u001b[0m\n\u001b[1;32m      1\u001b[0m \u001b[0;31m# model = KNeighborsRegressor(13, weights=\"distance\")\u001b[0m\u001b[0;34m\u001b[0m\u001b[0;34m\u001b[0m\u001b[0;34m\u001b[0m\u001b[0m\n\u001b[1;32m      2\u001b[0m \u001b[0mm\u001b[0m \u001b[0;34m=\u001b[0m \u001b[0mDNNR\u001b[0m\u001b[0;34m(\u001b[0m\u001b[0;36m3\u001b[0m\u001b[0;34m,\u001b[0m \u001b[0;36m32\u001b[0m\u001b[0;34m,\u001b[0m \u001b[0mscaling\u001b[0m\u001b[0;34m=\u001b[0m\u001b[0;32mNone\u001b[0m\u001b[0;34m,\u001b[0m \u001b[0mprecompute_derivatives\u001b[0m\u001b[0;34m=\u001b[0m\u001b[0;32mTrue\u001b[0m\u001b[0;34m)\u001b[0m\u001b[0;34m\u001b[0m\u001b[0;34m\u001b[0m\u001b[0m\n\u001b[0;32m----> 3\u001b[0;31m \u001b[0mm\u001b[0m\u001b[0;34m.\u001b[0m\u001b[0mfit\u001b[0m\u001b[0;34m(\u001b[0m\u001b[0mX_train\u001b[0m\u001b[0;34m,\u001b[0m \u001b[0my_train\u001b[0m\u001b[0;34m)\u001b[0m\u001b[0;34m\u001b[0m\u001b[0;34m\u001b[0m\u001b[0m\n\u001b[0m\u001b[1;32m      4\u001b[0m \u001b[0mm\u001b[0m\u001b[0;34m.\u001b[0m\u001b[0mnn_index\u001b[0m\u001b[0;34m.\u001b[0m\u001b[0mfit\u001b[0m\u001b[0;34m(\u001b[0m\u001b[0mX_train\u001b[0m\u001b[0;34m)\u001b[0m\u001b[0;34m\u001b[0m\u001b[0;34m\u001b[0m\u001b[0m\n\u001b[1;32m      5\u001b[0m \u001b[0mm\u001b[0m\u001b[0;34m.\u001b[0m\u001b[0mpredict\u001b[0m\u001b[0;34m(\u001b[0m\u001b[0mX_test\u001b[0m\u001b[0;34m)\u001b[0m\u001b[0;34m\u001b[0m\u001b[0;34m\u001b[0m\u001b[0m\n",
      "\u001b[0;32m~/Library/Python/3.8/lib/python/site-packages/dnnr/dnnr.py\u001b[0m in \u001b[0;36mfit\u001b[0;34m(***failed resolving arguments***)\u001b[0m\n\u001b[1;32m    184\u001b[0m \u001b[0;34m\u001b[0m\u001b[0m\n\u001b[1;32m    185\u001b[0m         \u001b[0;32mif\u001b[0m \u001b[0mself\u001b[0m\u001b[0;34m.\u001b[0m\u001b[0mprecompute_derivatives\u001b[0m\u001b[0;34m:\u001b[0m\u001b[0;34m\u001b[0m\u001b[0;34m\u001b[0m\u001b[0m\n\u001b[0;32m--> 186\u001b[0;31m             \u001b[0mself\u001b[0m\u001b[0;34m.\u001b[0m\u001b[0m_precompute_derivatives\u001b[0m\u001b[0;34m(\u001b[0m\u001b[0mself\u001b[0m\u001b[0;34m.\u001b[0m\u001b[0mX_train\u001b[0m\u001b[0;34m,\u001b[0m \u001b[0my_train\u001b[0m\u001b[0;34m)\u001b[0m\u001b[0;34m\u001b[0m\u001b[0;34m\u001b[0m\u001b[0m\n\u001b[0m\u001b[1;32m    187\u001b[0m \u001b[0;34m\u001b[0m\u001b[0m\n\u001b[1;32m    188\u001b[0m         \u001b[0mself\u001b[0m\u001b[0;34m.\u001b[0m\u001b[0mfitted_\u001b[0m \u001b[0;34m=\u001b[0m \u001b[0;32mTrue\u001b[0m\u001b[0;34m\u001b[0m\u001b[0;34m\u001b[0m\u001b[0m\n",
      "\u001b[0;32m~/Library/Python/3.8/lib/python/site-packages/dnnr/dnnr.py\u001b[0m in \u001b[0;36m_precompute_derivatives\u001b[0;34m(self, X_train, y_train)\u001b[0m\n\u001b[1;32m    134\u001b[0m \u001b[0;34m\u001b[0m\u001b[0m\n\u001b[1;32m    135\u001b[0m             self.derivatives_.append(\n\u001b[0;32m--> 136\u001b[0;31m                 \u001b[0mself\u001b[0m\u001b[0;34m.\u001b[0m\u001b[0m_estimate_derivatives\u001b[0m\u001b[0;34m(\u001b[0m\u001b[0mX_train\u001b[0m\u001b[0;34m[\u001b[0m\u001b[0mindices\u001b[0m\u001b[0;34m]\u001b[0m\u001b[0;34m,\u001b[0m \u001b[0my_train\u001b[0m\u001b[0;34m[\u001b[0m\u001b[0mindices\u001b[0m\u001b[0;34m]\u001b[0m\u001b[0;34m)\u001b[0m\u001b[0;34m\u001b[0m\u001b[0;34m\u001b[0m\u001b[0m\n\u001b[0m\u001b[1;32m    137\u001b[0m             )\n\u001b[1;32m    138\u001b[0m \u001b[0;34m\u001b[0m\u001b[0m\n",
      "\u001b[0;32m~/Library/Python/3.8/lib/python/site-packages/dnnr/dnnr.py\u001b[0m in \u001b[0;36m_estimate_derivatives\u001b[0;34m(self, x, y, n_neighbors, order)\u001b[0m\n\u001b[1;32m    244\u001b[0m     ) -> np.ndarray:\n\u001b[1;32m    245\u001b[0m \u001b[0;34m\u001b[0m\u001b[0m\n\u001b[0;32m--> 246\u001b[0;31m         nn_indices, _ = self.nn_index.query_knn(\n\u001b[0m\u001b[1;32m    247\u001b[0m             \u001b[0mx\u001b[0m\u001b[0;34m,\u001b[0m \u001b[0mn_neighbors\u001b[0m \u001b[0;32mor\u001b[0m \u001b[0mself\u001b[0m\u001b[0;34m.\u001b[0m\u001b[0mn_derivative_neighbors\u001b[0m\u001b[0;34m\u001b[0m\u001b[0;34m\u001b[0m\u001b[0m\n\u001b[1;32m    248\u001b[0m         )\n",
      "\u001b[0;32m~/Library/Python/3.8/lib/python/site-packages/dnnr/nn_index.py\u001b[0m in \u001b[0;36mquery_knn\u001b[0;34m(self, v, k)\u001b[0m\n\u001b[1;32m     75\u001b[0m             \u001b[0;32mraise\u001b[0m \u001b[0mValueError\u001b[0m\u001b[0;34m(\u001b[0m\u001b[0;34m\"Index not fitted.\"\u001b[0m\u001b[0;34m)\u001b[0m\u001b[0;34m\u001b[0m\u001b[0;34m\u001b[0m\u001b[0m\n\u001b[1;32m     76\u001b[0m \u001b[0;34m\u001b[0m\u001b[0m\n\u001b[0;32m---> 77\u001b[0;31m         indices, distances = self.index.get_nns_by_vector(\n\u001b[0m\u001b[1;32m     78\u001b[0m             \u001b[0mv\u001b[0m\u001b[0;34m,\u001b[0m \u001b[0mk\u001b[0m\u001b[0;34m,\u001b[0m \u001b[0minclude_distances\u001b[0m\u001b[0;34m=\u001b[0m\u001b[0;32mTrue\u001b[0m\u001b[0;34m\u001b[0m\u001b[0;34m\u001b[0m\u001b[0m\n\u001b[1;32m     79\u001b[0m         )\n",
      "\u001b[0;31mIndexError\u001b[0m: Vector has wrong length (expected 8, got 32)"
     ]
    }
   ],
   "source": [
    "# model = KNeighborsRegressor(13, weights=\"distance\")\n",
    "m = DNNR(3, 32, scaling=None, precompute_derivatives=True)\n",
    "m.fit(X_train, y_train)\n",
    "m.nn_index.fit(X_train)\n",
    "m.predict(X_test)\n"
   ]
  },
  {
   "cell_type": "code",
   "execution_count": 11,
   "metadata": {},
   "outputs": [
    {
     "data": {
      "text/plain": [
       "([13768, 6530, 8607],\n",
       " [2.3715736865997314, 2.8457491397857666, 3.2773845195770264])"
      ]
     },
     "execution_count": 11,
     "metadata": {},
     "output_type": "execute_result"
    }
   ],
   "source": [
    "m.nn_index.query_knn(X_test[1], 3)"
   ]
  },
  {
   "cell_type": "code",
   "execution_count": 264,
   "metadata": {},
   "outputs": [],
   "source": [
    "from sklearn.base import BaseEstimator\n",
    "from sklearn.base import RegressorMixin\n",
    "\n",
    "class MyOwnRegressor(BaseEstimator, RegressorMixin):\n",
    "    def __init__(self, k_neighbors=3, ks_neighbors=5, order=1, device=\"cpu\"):\n",
    "        self.k_neighbors = k_neighbors\n",
    "        self.ks_neighbors = ks_neighbors\n",
    "        self.order = order\n",
    "        self.device = device\n",
    "        \n",
    "    def fit(self, X, y):\n",
    "        self.features_db = torch.tensor(X, device=self.device, dtype=torch.float64)\n",
    "        self.labels_db = torch.tensor(y.to_numpy(), device=self.device).unsqueeze(-1)\n",
    "        self.db_len = self.features_db.shape[0]\n",
    "        return self\n",
    "        \n",
    "    def predict(self, X):\n",
    "        X = torch.tensor(X, device=self.device, dtype=torch.float64)\n",
    "        # indecies of k-NN of X\n",
    "        indxs = torch.sqrt(((X[:, None, :] - self.features_db )**2).sum(dim=-1)).argsort(dim=-1)[..., :self.k_neighbors]\n",
    "        # indecies of ks-NN of k-NNs of X (for gradient estimation)\n",
    "        meta_indxs = torch.sqrt(((self.features_db[indxs][:,:,None,:] - self.features_db )**2).sum(dim=-1)).argsort(dim=-1)[..., 1:1+self.ks_neighbors]\n",
    "        # Construct A and q matrices for LS problem\n",
    "        A = (self.features_db [meta_indxs] - self.features_db[indxs][:,:, None, :])/(self.features_db[meta_indxs] - self.features_db[indxs][:,:, None, :]).norm(dim=-1)[...,None]\n",
    "        q = (self.labels_db[meta_indxs] -  self.labels_db[indxs][:,:, None, :])/(self.features_db[meta_indxs] - self.features_db[indxs][:,:, None, :]).norm(dim=-1)[...,None]\n",
    "        # SVD decomposition\n",
    "        U, S, Vt = torch.linalg.svd(A)\n",
    "        # Pseudo-inverse of A\n",
    "        # Overdetermined case\n",
    "        print(U.shape, S.shape, Vt.shape, A.shape)\n",
    "        if A.shape[-2] >= A.shape[-1]:\n",
    "            A_pen = torch.matmul(\n",
    "                torch.matmul(Vt.permute((0,1, 3,2)), torch.stack([ torch.stack([torch.diag((1/S)[i][j]) for j in range(self.k_neighbors)]) for i in range(X.shape[0]) ] )),\n",
    "                U.permute((0,1 ,3, 2))[:,:, :A.shape[-1],:]\n",
    "            )\n",
    "        # Underdetermined case\n",
    "        else:\n",
    "            A_pen = torch.matmul(\n",
    "                torch.matmul(Vt.permute((0,1, 3,2))[... , :A.shape[-2]], torch.stack([ torch.stack([torch.diag((1/S)[i][j]) for j in range(self.k_neighbors)]) for i in range(X.shape[0]) ] )),\n",
    "                U.permute((0,1 ,3, 2))\n",
    "            )\n",
    "        # Result\n",
    "        preds = ((self.labels_db[indxs][..., 0] + ((X[:, None, :] - self.features_db[indxs]) * torch.matmul(A_pen, q).squeeze(-1)).sum(dim=-1)).mean(-1)).numpy()\n",
    "        # preds = ((self.labels_db[indxs][..., 0] ).mean(-1)).numpy()\n",
    "\n",
    "        return(preds)\n",
    "        \n",
    "\n"
   ]
  },
  {
   "cell_type": "code",
   "execution_count": 355,
   "metadata": {},
   "outputs": [],
   "source": [
    "l = california_housing.data.to_numpy().shape[0]\n",
    "train_db = california_housing.data.to_numpy()[:int(0.8*l), :]\n",
    "test_db = california_housing.data.to_numpy()[int(0.8*l):, :]\n",
    "train_y = california_housing.target.to_numpy()[:int(0.8*l), None]\n",
    "test_y = california_housing.target.to_numpy()[int(0.8*l):, None]"
   ]
  },
  {
   "cell_type": "code",
   "execution_count": 408,
   "metadata": {},
   "outputs": [],
   "source": [
    "indxs = np.sqrt(((test_db[:, None, :] - train_db )**2).sum(axis=-1)).argsort(axis=-1)[:, :20]"
   ]
  },
  {
   "cell_type": "code",
   "execution_count": 409,
   "metadata": {},
   "outputs": [],
   "source": [
    "meta_indxs = np.sqrt(((train_db[indxs][:,:,None,:] - train_db )**2).sum(axis=-1)).argsort(axis=-1)[..., 1:1+2]"
   ]
  },
  {
   "cell_type": "code",
   "execution_count": 410,
   "metadata": {},
   "outputs": [
    {
     "data": {
      "text/plain": [
       "(89, 20, 2, 10)"
      ]
     },
     "execution_count": 410,
     "metadata": {},
     "output_type": "execute_result"
    }
   ],
   "source": [
    "(train_db[meta_indxs]-test_db[:, None, None, :]).shape"
   ]
  },
  {
   "cell_type": "code",
   "execution_count": 418,
   "metadata": {},
   "outputs": [
    {
     "name": "stdout",
     "output_type": "stream",
     "text": [
      "(89, 20, 2, 10)\n"
     ]
    }
   ],
   "source": [
    "form_A_big = []\n",
    "A_big = (train_db[meta_indxs] - train_db[indxs][:,:, None, :])/LA.norm((train_db[meta_indxs] - train_db[indxs][:,:, None, :]), axis=-1)[...,None]\n",
    "q_big = (train_y[meta_indxs] -  train_y[indxs][:,:, None, :])/LA.norm((train_db[meta_indxs] - train_db[indxs][:,:, None, :]), axis=-1)[...,None]\n",
    "form_A_big.append(A_big)\n",
    "\n",
    "# second order\n",
    "# n = 2\n",
    "# a = np.ones(A_big.shape[-1])\n",
    "# A_2 = np.zeros([A_big.shape[0], A_big.shape[1] , A_big.shape[2], multinomial(a, n).shape[0]])\n",
    "# for i in range(A_2.shape[0]):\n",
    "#     for j in range(A_2.shape[1]):\n",
    "#         for k in range(A_2.shape[2]):\n",
    "#             A_2[i][j][k] = multinomial(A_big[i][j][k], n)*((LA.norm((train_db[meta_indxs] - train_db[indxs][:,:, None, :]), axis=-1)[...,None][i][j][k])**(n-1))/2\n",
    "# print(A_2.shape)\n",
    "# form_A_big.append(A_2)\n",
    "\n",
    "A_big = np.concatenate(form_A_big, axis=-1)\n",
    "print(A_big.shape)"
   ]
  },
  {
   "cell_type": "code",
   "execution_count": 419,
   "metadata": {},
   "outputs": [
    {
     "data": {
      "text/plain": [
       "((89, 20, 2, 10), (89, 20, 2, 2), (89, 20, 2), (89, 20, 10, 10))"
      ]
     },
     "execution_count": 419,
     "metadata": {},
     "output_type": "execute_result"
    }
   ],
   "source": [
    "U, S, Vt = np.linalg.svd(A_big)\n",
    "A_big.shape, U.shape, S.shape, Vt.shape"
   ]
  },
  {
   "cell_type": "code",
   "execution_count": 420,
   "metadata": {},
   "outputs": [],
   "source": [
    "if A_big.shape[-2] >= A_big.shape[-1]:\n",
    "    A_big_pen = np.matmul(\n",
    "        np.matmul(Vt.transpose((0,1, 3,2)), np.stack([ np.stack([np.diag((1/S)[i][j]) for j in range(A_big.shape[1])]) for i in range(test_y.shape[0]) ] )),\n",
    "        U.transpose((0,1 ,3, 2))[:,:, :A_big.shape[-1],:]\n",
    "    )\n",
    "else:\n",
    "    A_big_pen = np.matmul(\n",
    "        np.matmul(Vt.transpose((0,1, 3,2))[... , :A_big.shape[-2]], np.stack([ np.stack([np.diag((1/S)[i][j]) for j in range(A_big.shape[1])]) for i in range(test_y.shape[0]) ] )),\n",
    "        U.transpose((0,1 ,3, 2))\n",
    "    )"
   ]
  },
  {
   "cell_type": "code",
   "execution_count": 421,
   "metadata": {},
   "outputs": [
    {
     "data": {
      "text/plain": [
       "array([166.66648564, 175.40769537,  64.38862179, 112.82006131,\n",
       "       135.22069224, 108.56986029, 167.39607145, 170.87668813,\n",
       "       138.74650913, 209.52103116, 101.14796316, 120.97615813,\n",
       "       195.1064643 , 194.31509228, 252.79262205, 192.76210951,\n",
       "       143.87915875,  89.83735078, 182.10339225,  98.98423065,\n",
       "       147.82616937, 134.92747523, 176.31540779, 148.06981736,\n",
       "       144.79368139, 140.73726451,  97.96219025, 131.85781226,\n",
       "       120.85441203, 216.57770048,  92.90964814, 151.27097834,\n",
       "       125.66240112, 111.00264905, 174.50365171, 155.61861357,\n",
       "       102.70104448, 265.78270554, 103.13190571,  88.09868127,\n",
       "       129.21975799, 246.18503796, 156.32948918,  89.70994064,\n",
       "       157.01596602, 116.01559774, 194.99323938, 149.4243755 ,\n",
       "        99.01041567, 157.8339009 , 167.83792828, 181.63318874,\n",
       "       283.44779931, 101.79208992, 163.28533025, 167.759409  ,\n",
       "       193.50443405, 174.76748158, 134.41659833, 210.15784129,\n",
       "       120.66995577, 182.4923102 , 176.34688491, 187.01237038,\n",
       "       133.50381001,  87.46162492, 103.67446577, 139.27118261,\n",
       "       169.98121317, 204.02275881, 211.30895002, 106.24692384,\n",
       "       103.00286092, 180.50538918,  64.56460738, 264.35911181,\n",
       "        92.16124685,  89.2998746 , 158.18897149, 229.42496255,\n",
       "        67.1970193 ,  96.39413988, 135.492733  ,  70.91490809,\n",
       "       192.92023926, 138.00280126,  59.58334153, 159.20613946,\n",
       "        96.52054882])"
      ]
     },
     "execution_count": 421,
     "metadata": {},
     "output_type": "execute_result"
    }
   ],
   "source": [
    "(train_y[indxs][..., 0] + (np.matmul(A_big_pen, q_big).squeeze(-1)[:,:, :10]*(test_db[:, None, :]-train_db[indxs])).sum(axis=-1)).mean(-1)"
   ]
  },
  {
   "cell_type": "code",
   "execution_count": 422,
   "metadata": {},
   "outputs": [
    {
     "data": {
      "text/plain": [
       "8377.577608638883"
      ]
     },
     "execution_count": 422,
     "metadata": {},
     "output_type": "execute_result"
    }
   ],
   "source": [
    "LA.norm((train_y[indxs][..., 0] + (np.matmul(A_big_pen, q_big).squeeze(-1)[:,:, :10]*(test_db[:, None, :]-train_db[indxs])).sum(axis=-1)).mean(-1) - test_y)"
   ]
  },
  {
   "cell_type": "code",
   "execution_count": 20,
   "metadata": {},
   "outputs": [],
   "source": [
    "a = 0.73632\n",
    "g = 9.18\n",
    "H = 15\n",
    "l = 100\n",
    "k = 2*np.pi/l\n",
    "v_g = 0.5*(g*a + g*k*(1 - a**2)*H)/(np.sqrt(a*g*k))"
   ]
  },
  {
   "cell_type": "code",
   "execution_count": 23,
   "metadata": {},
   "outputs": [
    {
     "data": {
      "text/plain": [
       "8.22513467830804"
      ]
     },
     "execution_count": 23,
     "metadata": {},
     "output_type": "execute_result"
    }
   ],
   "source": [
    "v_g"
   ]
  },
  {
   "cell_type": "code",
   "execution_count": null,
   "metadata": {},
   "outputs": [],
   "source": []
  }
 ],
 "metadata": {
  "kernelspec": {
   "display_name": "Python 3",
   "language": "python",
   "name": "python3"
  },
  "language_info": {
   "codemirror_mode": {
    "name": "ipython",
    "version": 3
   },
   "file_extension": ".py",
   "mimetype": "text/x-python",
   "name": "python",
   "nbconvert_exporter": "python",
   "pygments_lexer": "ipython3",
   "version": "3.8.9 (default, Apr 13 2022, 08:48:06) \n[Clang 13.1.6 (clang-1316.0.21.2.5)]"
  },
  "orig_nbformat": 4,
  "vscode": {
   "interpreter": {
    "hash": "31f2aee4e71d21fbe5cf8b01ff0e069b9275f58929596ceb00d14d90e3e16cd6"
   }
  }
 },
 "nbformat": 4,
 "nbformat_minor": 2
}
